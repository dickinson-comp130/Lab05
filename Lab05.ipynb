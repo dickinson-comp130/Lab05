{
 "cells": [
  {
   "cell_type": "markdown",
   "metadata": {},
   "source": [
    "# Lab05 - Scientific Simulations  \n",
    "**COMP130 - Introduction to Computing**  \n",
    "**Dickinson College**  "
   ]
  },
  {
   "cell_type": "markdown",
   "metadata": {},
   "source": [
    "### Names:"
   ]
  },
  {
   "cell_type": "markdown",
   "metadata": {},
   "source": [
    "Solutions"
   ]
  },
  {
   "cell_type": "markdown",
   "metadata": {},
   "source": [
    "### An Empirical Scientific Question:\n",
    "\n",
    "How old is the sunlight that we see on Earth?\n",
    "\n",
    "The short and easy answer that you may remember from science class is that it takes about 8 minutes for sunlight to reach the Earth. But, that 8 minutes is just the second part of a [much longer and more interesting journey](https://sunearthday.nasa.gov/2007/locations/ttt_sunlight.php). It only counts the time from when the light leaves the Sun and travels, in a straight line through the vacuum of space, to the Earth. Before it could even begin that journey, the light had to first travel from near the center of the Sun to the surface of the Sun. In this first part of light's journey, from the center of the Sun to its surface, the light is constantly redirected in random directions by collisions with the particles that make up the Sun. Thus, it bounces around, taking a very indirect and random path from the center of the sun to its surface. That random path, it turns out, takes a surprisingly long time. In this lab we will be using scientific simulations to generate an estimate of just how long."
   ]
  },
  {
   "cell_type": "markdown",
   "metadata": {},
   "source": [
    "__Q1:__ What two times do we need to know to answer the above question? Which one do we already know?"
   ]
  },
  {
   "cell_type": "markdown",
   "metadata": {},
   "source": [
    "We need to know the time that it takes for the light to:\n",
    "1. get from the center of the Sun to its surface, and\n",
    "1. get from the surface of the Sun to the Earth."
   ]
  },
  {
   "cell_type": "markdown",
   "metadata": {},
   "source": [
    "### Brownian Motion\n",
    "\n",
    "To get to the missing time that we need to answer our question we are going to pull in something else you learned about in science class,Brownian Motion. Brownian motion is named after Robert Brown, a botanist, who in 1827 described particles of plant pollen moving around randomly in water and seemingly of its own volition. Over 75 years later, Albert Einstein hypothesized that these pollen particles were actually moving the way they did because they were being bounced around by collisions with water molecules."
   ]
  },
  {
   "cell_type": "markdown",
   "metadata": {},
   "source": [
    "__Q2:__ Do you see any similarities between Brownian Motion and our question of how old the sunlight is that we see on Earth?"
   ]
  },
  {
   "cell_type": "markdown",
   "metadata": {},
   "source": [
    "In Brownian motion the pollen particles are bouncing around randomly as they collide with the water molecules.  This is similar to the light being bounced around by the particles that make up the Sun as it makes its way from the center of the Sun to the surface."
   ]
  },
  {
   "cell_type": "markdown",
   "metadata": {},
   "source": [
    "### Random Walk Algorithms\n",
    "\n",
    "Computer simulations often model Brownian Motion as a [random walk](https://en.wikipedia.org/wiki/Random_walk) using the following algorithm:\n",
    "```\n",
    "repeat the following some number of times\n",
    "  turn in a random direction\n",
    "  take one step forward\n",
    "```\n",
    "\n",
    "Below is an example of a random walk using a Python `Turtle`.  This walk started at the red dot, went for 500 steps and ended in the lower left, where the turtle is now.\n",
    "\n",
    "![A random walk](randwalk.png)"
   ]
  },
  {
   "cell_type": "markdown",
   "metadata": {},
   "source": [
    "__Q3:__ What Python construct will you be using to \"repeat the following\"?"
   ]
  },
  {
   "cell_type": "markdown",
   "metadata": {},
   "source": [
    "The `for` loop is the Python statement that we know that can be used to repeat other statements."
   ]
  },
  {
   "cell_type": "markdown",
   "metadata": {},
   "source": [
    "For such a simple process, there are an amazing variety of [applications that use random walk algorithms](https://en.wikipedia.org/wiki/Random_walk#Applications).  A few examples include:\n",
    "- Models of the stock marked are based on the [Random Walk Hypothesis](https://en.wikipedia.org/wiki/Random_walk_hypothesis), which posits that stock prices in an efficient market can be modeled as a random walk.\n",
    "- Biologists who study population genetics have modeled [Genetic Drift](https://en.wikipedia.org/wiki/Genetic_drift) and [Neutral Evolution](https://en.wikipedia.org/wiki/Neutral_theory_of_molecular_evolution) using random walks.\n",
    "- Twitter's [Who-To-Follow (WTF)](https://www.researchgate.net/publication/262318036_WTF_the_who_to_follow_service_at_Twitter) algorithm uses random walks as one part of how it recommends users you might be interested in following.\n",
    "\n",
    "And most relevant to our present work:\n",
    "\n",
    "- Astronomers use random walks to model [the movement of light photons in the sun](http://www.astronoo.com/en/articles/journey-of-the-photon.html).\n",
    "\n",
    "Thus, this lab we will collect and analyze data from computer simulations of *Random Walks* to generate an estimate of how long it takes for the light to travel, via random walk, from the center of the sun to its surface.  Combining that with the time we already know will give us an answer to our question."
   ]
  },
  {
   "cell_type": "markdown",
   "metadata": {},
   "source": [
    "### Simulating a Random Walk"
   ]
  },
  {
   "cell_type": "markdown",
   "metadata": {},
   "source": [
    "Ultimately we will need to build a program that simulates random walks. However, in programming it is usually easier to build the program in smaller pieces. That way, each piece is relatively easy to build compared to the whole program and it is also easier to check if each piece is working correctly. Then the pieces can be put together into the full program. That should sound familiar, as we've talked about *problem decomposition* as a problem solving strategy before. The next few questions will build up the code you need to simulate a random walk using a `Turtle`."
   ]
  },
  {
   "cell_type": "markdown",
   "metadata": {},
   "source": [
    "__Q4:__ Writing a random walk with a `Turtle` will require both the `random` module and the `Turtle` module.  Write statements in the cell below to `import` these modules."
   ]
  },
  {
   "cell_type": "code",
   "execution_count": 2,
   "metadata": {},
   "outputs": [],
   "source": [
    "import random\n",
    "import turtle"
   ]
  },
  {
   "cell_type": "markdown",
   "metadata": {},
   "source": [
    "__Q5:__ In order to implement the above algorithm you'll need to first be able to turn the turtle to a random direction.  To do that you'll need to be able to pick a random angle between 0 to 359 degrees. Write statements below that pick a random integer value between 0 and 359 (including both 0 and 359) and then prints it out. If you are unsure which `random` function to use or what arguments to provide to it, refer to the documentation for the `random` module linked from the course home page.  Finally, run the statements you have written a few times to be sure you are getting a variety of random numbers."
   ]
  },
  {
   "cell_type": "code",
   "execution_count": 5,
   "metadata": {},
   "outputs": [
    {
     "name": "stdout",
     "output_type": "stream",
     "text": [
      "59\n"
     ]
    }
   ],
   "source": [
    "angle = random.randint(0,359)\n",
    "print(angle)"
   ]
  },
  {
   "cell_type": "markdown",
   "metadata": {},
   "source": [
    "__Q6:__ Write a statement in the following cell that creates creates a `Turtle`.  Run it to have the *Turtle Window* appear on the screen and leave the window open (i.e. do not *Restart the Kernel* to close it)."
   ]
  },
  {
   "cell_type": "code",
   "execution_count": 3,
   "metadata": {},
   "outputs": [],
   "source": [
    "randy = turtle.Turtle()"
   ]
  },
  {
   "cell_type": "markdown",
   "metadata": {},
   "source": [
    "__Q7:__ Write statements in the code cell below that turns your turtle from __Q6__ to a random heading and then moves it 10 pixels forward."
   ]
  },
  {
   "cell_type": "code",
   "execution_count": 47,
   "metadata": {},
   "outputs": [],
   "source": [
    "angle = random.randint(0,359)\n",
    "randy.setheading(angle)\n",
    "randy.forward(10)"
   ]
  },
  {
   "cell_type": "markdown",
   "metadata": {},
   "source": [
    "__Q8:__ What happens when you run your statements from __Q7__ over and over again?"
   ]
  },
  {
   "cell_type": "markdown",
   "metadata": {},
   "source": [
    "The turtle \"wanders\" around randomly.  It turns to a random direction and then takes a step forward.  The turtle is simulating a random walk."
   ]
  },
  {
   "cell_type": "markdown",
   "metadata": {},
   "source": [
    "__Q9:__ That running over and over again by hand thing is annoying... let's automate it. \n",
    "\n",
    "In the code cell below write a small program that:\n",
    "- Resets your turtle to the center of the screen and clears its trace.\n",
    "  - Ex: `ted.reset()`\n",
    "- Uses a `for` loop to have the turtle take 50 random steps, each 10 pixels in length.\n",
    "Run your program a few times and ensure that it produces a different random walk each time."
   ]
  },
  {
   "cell_type": "code",
   "execution_count": 48,
   "metadata": {},
   "outputs": [],
   "source": [
    "randy.reset()\n",
    "for step in range(50):\n",
    "    angle = random.randint(0,359)\n",
    "    randy.setheading(angle)\n",
    "    randy.forward(10)"
   ]
  },
  {
   "cell_type": "markdown",
   "metadata": {},
   "source": [
    "__Q10:__ Before going on, demonstrate your program from __Q9__ for the instructor or TA, who will initial below."
   ]
  },
  {
   "cell_type": "markdown",
   "metadata": {},
   "source": [
    "GWB"
   ]
  },
  {
   "cell_type": "markdown",
   "metadata": {},
   "source": [
    "### A Generalized Random Walk Function"
   ]
  },
  {
   "cell_type": "markdown",
   "metadata": {},
   "source": [
    "__Q11:__ The random walk code you wrote in __Q9__ would make a very good function.  In the cell below write a function that takes a `Turtle` as a argument, resets the turtle and then has the turtle do a random walk of 50 steps each 10 pixels in length.  If you already wrote this code in a function in __Q9__ you can just copy that code here."
   ]
  },
  {
   "cell_type": "code",
   "execution_count": 55,
   "metadata": {},
   "outputs": [],
   "source": [
    "def random_walk(tur):\n",
    "    tur.reset()\n",
    "    for step in range(50):\n",
    "        angle = random.randint(0,359)\n",
    "        tur.setheading(angle)\n",
    "        tur.forward(10)"
   ]
  },
  {
   "cell_type": "markdown",
   "metadata": {},
   "source": [
    "__Q12:__ Write statements that create a new turtle and then calls your function from __Q11__ to cause the turtle to take a random walk.  If you already included such a statement in __Q11__ move it here."
   ]
  },
  {
   "cell_type": "code",
   "execution_count": 56,
   "metadata": {},
   "outputs": [],
   "source": [
    "randy = turtle.Turtle()\n",
    "random_walk(randy)"
   ]
  },
  {
   "cell_type": "markdown",
   "metadata": {},
   "source": [
    "__Q13:__ A more general random walk function will allow you to specify the number of steps in the walk and the length of each of the steps.  Rewrite your random walk function from __Q11__ in the cell below so that it has parameters that make it possible to take a walk of any number of steps of any length.  If your function in __Q11__ was already general, just copy it here."
   ]
  },
  {
   "cell_type": "code",
   "execution_count": 59,
   "metadata": {},
   "outputs": [],
   "source": [
    "def random_walk(tur, num_steps, step_length):\n",
    "    tur.reset()\n",
    "    for step in range(num_steps):\n",
    "        angle = random.randint(0,359)\n",
    "        tur.setheading(angle)\n",
    "        tur.forward(step_length)"
   ]
  },
  {
   "cell_type": "markdown",
   "metadata": {},
   "source": [
    "__Q14:__ Write statements that create a turtle and then calls your function from __Q13__ to cause your turtle to take a random walk of 100 steps of size 5."
   ]
  },
  {
   "cell_type": "code",
   "execution_count": 58,
   "metadata": {},
   "outputs": [],
   "source": [
    "randy = turtle.Turtle()\n",
    "random_walk(randy,100,5)"
   ]
  },
  {
   "cell_type": "markdown",
   "metadata": {},
   "source": [
    "### What Question To Ask Next?"
   ]
  },
  {
   "cell_type": "markdown",
   "metadata": {},
   "source": [
    "You now have code that can simulate a random walk of a specified number of steps of a specified size. However, recall that what we need to know is the time it takes for light to travel, via random walk, from the center of the Sun to its surface. For example, the figure below illustrates one possible path that light might take:\n",
    "\n",
    "![Random walk of light from the center of the sun to its surface](randwalkinsun.png)\n",
    "\n",
    "So our question boils down to figuring out how long it takes the light to travel that circuitous random path.  \n",
    "\n",
    "One straight forward approach to finding that time would be just to simulate random walks over and over again until they reach a distance from their starting point that is equal to the radius of the Sun. Unfortunately, even on today's fastest computers this would take far too long.  So we'll need to take a less direct approach. \n",
    "\n",
    "The following questions will guide you through it.\n",
    "\n",
    "Recall that distance (d) equals speed (s) times time (t), or: $d = s \\cdot t$"
   ]
  },
  {
   "cell_type": "markdown",
   "metadata": {},
   "source": [
    "__Q15:__ If a object travels at a speed of 10 meters/second for 15 seconds how far will it go?"
   ]
  },
  {
   "cell_type": "markdown",
   "metadata": {},
   "source": [
    "```\n",
    "d = s * t\n",
    "  = 10 m/s * 15 s\n",
    "  = 150 m\n",
    "```"
   ]
  },
  {
   "cell_type": "markdown",
   "metadata": {},
   "source": [
    "In __Q15__ we know the time and the speed.  However, in our sunlight problem we don't know the time, that is what we need to find.  So let's turn the above question around to match ours."
   ]
  },
  {
   "cell_type": "markdown",
   "metadata": {},
   "source": [
    "__Q16:__ If an object travels 500 meters at a speed of 5 meters/second, how long does it take?"
   ]
  },
  {
   "cell_type": "markdown",
   "metadata": {},
   "source": [
    "d = s * t can be rewritten as:  \n",
    "- t = d / s  \n",
    "\n",
    "So then we find:\n",
    "\n",
    "```\n",
    "t = d / s\n",
    "  = 500 m / 5 m/s\n",
    "  = 100 s\n",
    "```"
   ]
  },
  {
   "cell_type": "markdown",
   "metadata": {},
   "source": [
    "__Q17:__ Write out an equation that shows how you found your answer to __Q16__?"
   ]
  },
  {
   "cell_type": "markdown",
   "metadata": {},
   "source": [
    "t = d / s"
   ]
  },
  {
   "cell_type": "markdown",
   "metadata": {},
   "source": [
    "The equation you just wrote for __Q17__ can now be used to answer our question if we know:\n",
    "- The speed of light in meters/second\n",
    "- The total distance covered by the random walk in meters."
   ]
  },
  {
   "cell_type": "markdown",
   "metadata": {},
   "source": [
    "__Q18:__ What is the speed of light in meters/second?"
   ]
  },
  {
   "cell_type": "markdown",
   "metadata": {},
   "source": [
    "The speed of light is __299 792 458 meters/second__ which is often approximated as __3*10^8 meters/second__."
   ]
  },
  {
   "cell_type": "markdown",
   "metadata": {},
   "source": [
    "__Q19:__ The total distance of a random walk is made up of two components:\n",
    "- the number of steps in the walk.\n",
    "- the length of each step.\n",
    "\n",
    "Scientists have estimated that [light travels about 1 cm (or 0.01 meters) between collisions](https://image.gsfc.nasa.gov/poetry/ask/a11354.html).  Thus, each step of the walk is about 1 cm or 0.01 meters.  Using the variable `n` for the number of steps, rewrite your equation from __Q17__ to give the time required for the random walk as a function of the number of steps.  Your equation should contain variables `t` for time and `n` for the number of steps.  Specific values for the step length and the speed of light should be included in your equation."
   ]
  },
  {
   "cell_type": "markdown",
   "metadata": {},
   "source": [
    "t = (n steps * 0.01 m/step) / 3*10^8 m/s\n",
    "\n",
    "or in Python:\n",
    "\n",
    "`t = (n * 0.01) / 3*10**8`"
   ]
  },
  {
   "cell_type": "markdown",
   "metadata": {},
   "source": [
    "So now, given your equation in __Q19__, answering our main question now boils down to getting an estimate for the number of steps needed for a random walk to reach the surface of the Sun. "
   ]
  },
  {
   "cell_type": "markdown",
   "metadata": {},
   "source": [
    "### Finding a Useful Random Walk Property"
   ]
  },
  {
   "cell_type": "markdown",
   "metadata": {},
   "source": [
    "We already decided that directly determining the number of steps in the random walk is impractical because the program would take too long to run (years!!). So, this section guides you through some experiments that will identify a relationship that predicts how far on average a walk will be from its starting point after **n** steps. In terms of our problem, once we have this relationship we can find the number of steps necessary to for the light to random walk to the radius of the sun. Once we have that, we plug it into the equation from __Q19__ and we'll know the time."
   ]
  },
  {
   "cell_type": "markdown",
   "metadata": {},
   "source": [
    "__Q21:__ Write statements below that:\n",
    "- call your function from __Q13__ with your turtle from __Q6__ to have it do a random walk of 100 steps of length 10\n",
    "- print out the straight line distance from the origin (where the turtle started) to where it ended."
   ]
  },
  {
   "cell_type": "code",
   "execution_count": 60,
   "metadata": {},
   "outputs": [
    {
     "name": "stdout",
     "output_type": "stream",
     "text": [
      "57.239094722386035\n"
     ]
    }
   ],
   "source": [
    "randy = turtle.Turtle()\n",
    "random_walk(randy,100,5)\n",
    "print(randy.distance(0,0))"
   ]
  },
  {
   "cell_type": "markdown",
   "metadata": {},
   "source": [
    "__Q22:__ Study the program below.  When you think you have an understanding of what it intends to do, make a copy of it and modify it so that:\n",
    "- the line `random_walk(photon, steps, 5)` calls the random walk function you defined in __Q13__\n",
    "- it performs walks with 0, 50, 100, 150, ... 1000 steps of length 5."
   ]
  },
  {
   "cell_type": "code",
   "execution_count": null,
   "metadata": {
    "deletable": false,
    "editable": false
   },
   "outputs": [],
   "source": [
    "import turtle\n",
    "import random\n",
    "\n",
    "photon = turtle.Turtle()\n",
    "turtle.clearscreen()  # erase any old walks\n",
    "turtle.tracer(10, 0)  # increase the 10 to make the simulations go faster.\n",
    "\n",
    "# Do a number of random walks each one with \n",
    "# a different number of steps.\n",
    "steps=100\n",
    "for number_of_steps in range(5):    \n",
    "    random_walk(photon, steps, 5)      # Have the turtle to the random walk.\n",
    "    distance = photon.distance(0,0)    # Find the straight line distance from the starting point.\n",
    "    \n",
    "    print(str(steps) + \" : \" + str(distance))\n",
    "        \n",
    "    steps = steps + 25"
   ]
  },
  {
   "cell_type": "code",
   "execution_count": 61,
   "metadata": {},
   "outputs": [
    {
     "name": "stdout",
     "output_type": "stream",
     "text": [
      "0 : 0.0\n",
      "50 : 23.331122363216924\n",
      "100 : 30.07765538219434\n",
      "150 : 96.84004325452372\n",
      "200 : 78.421910868024\n",
      "250 : 82.22972343798216\n",
      "300 : 32.02618026036111\n",
      "350 : 25.09292814099924\n",
      "400 : 194.5747079934369\n",
      "450 : 27.917684716643734\n",
      "500 : 114.06166451849938\n",
      "550 : 150.61818746693223\n",
      "600 : 119.08215309281661\n",
      "650 : 31.92008462062881\n",
      "700 : 125.92136798091333\n",
      "750 : 128.03558630686672\n",
      "800 : 180.4218468265753\n",
      "850 : 96.61749229594321\n",
      "900 : 69.27464080077829\n",
      "950 : 12.259616939449325\n",
      "1000 : 188.83095916696723\n"
     ]
    }
   ],
   "source": [
    "import turtle\n",
    "import random\n",
    "\n",
    "photon = turtle.Turtle()\n",
    "turtle.clearscreen()  # erase any old walks\n",
    "turtle.tracer(100, 0)  # increase the 10 to make the simulations go faster.\n",
    "\n",
    "# Do a number of random walks each one with \n",
    "# a different number of steps.\n",
    "steps=0\n",
    "for number_of_steps in range(21):    \n",
    "    random_walk(photon, steps, 5)      # Have the turtle to the random walk.\n",
    "    distance = photon.distance(0,0)    # Find the straight line distance from the starting point.\n",
    "    \n",
    "    print(str(steps) + \" : \" + str(distance))\n",
    "        \n",
    "    steps = steps + 50"
   ]
  },
  {
   "cell_type": "markdown",
   "metadata": {},
   "source": [
    "__Q23:__ The program below is very similar to the one above, except that instead of printing the distance of the walks it uses a plotting module to display the data as a graph. Some of the things it does we haven't studied yet. You won't need to change any of those lines. But you should still try to get a feel for what they might do (e.g. `append`) and how they help generate the graph.\n",
    "\n",
    "Study this program and then when you think you are ready, make a copy of it and modify it so that:\n",
    "- the line `random_walk(photon, steps, 5)` calls the random walk function you defined in __Q13__\n",
    "- it performs walk lengths of 0, 50, 100, 150, ... 1000 steps of length 5.\n",
    "\n",
    "Sometimes the graph will not appear and you will see the line: \n",
    "- `<Figure size 640x480 with 1 Axes>` \n",
    "\n",
    "If this happens try running the cell again."
   ]
  },
  {
   "cell_type": "code",
   "execution_count": null,
   "metadata": {
    "deletable": false,
    "editable": false
   },
   "outputs": [],
   "source": [
    "import turtle\n",
    "import random\n",
    "from matplotlib.pyplot import *\n",
    "\n",
    "photon = turtle.Turtle()\n",
    "\n",
    "turtle.clearscreen()  # erase any old walks\n",
    "turtle.tracer(100, 0)  # Increase the 100 to make the simulations go faster.\n",
    "\n",
    "x=[] # will hold x values for the graph.\n",
    "y=[] # will hold y values for the graph.\n",
    "\n",
    "# Do a number of random walks each one with \n",
    "# a different number of steps.\n",
    "steps=100\n",
    "for number_of_steps in range(5):\n",
    "    random_walk(photon, steps, 5)    # Have the turtle to the random walk.\n",
    "    distance = photon.distance(0,0)  # Find the straight line distance from the starting point.\n",
    "    \n",
    "    x.append(steps)     # add a new x value.\n",
    "    y.append(distance)  # add a new y value.\n",
    "        \n",
    "    steps = steps + 25\n",
    "    \n",
    "# Generate a plot of the x and y values.\n",
    "plot(x, y, 'r.')                       # plot x and y using red dots.\n",
    "ylim([0, 200])                         # Set the range on the y axis.\n",
    "xlim([0, 1100])                        # Set the range on the x axis.\n",
    "title(\"Random Walk Distances\")         # Title for the plot.\n",
    "xlabel(\"Number of Steps\")              # Label the x axis.\n",
    "ylabel(\"Distance from Starting Point\") # Label the y axis.\n",
    "grid(True)                             # Turn on the grid lines.\n",
    "show()                                 # Make the graph show up in the notebook."
   ]
  },
  {
   "cell_type": "code",
   "execution_count": 63,
   "metadata": {},
   "outputs": [
    {
     "data": {
      "image/png": "[encoded data removed]",
      "text/plain": [
       "<Figure size 432x288 with 1 Axes>"
      ]
     },
     "metadata": {
      "needs_background": "light"
     },
     "output_type": "display_data"
    }
   ],
   "source": [
    "import turtle\n",
    "import random\n",
    "from matplotlib.pyplot import *\n",
    "\n",
    "photon = turtle.Turtle()\n",
    "\n",
    "turtle.clearscreen()  # erase any old walks\n",
    "turtle.tracer(100, 0)  # Increase the 100 to make the simulations go faster.\n",
    "\n",
    "x=[] # will hold x values for the graph.\n",
    "y=[] # will hold y values for the graph.\n",
    "\n",
    "# Do a number of random walks each one with \n",
    "# a different number of steps.\n",
    "steps=0\n",
    "for number_of_steps in range(21):\n",
    "    random_walk(photon, steps, 5)    # Have the turtle to the random walk.\n",
    "    distance = photon.distance(0,0)  # Find the straight line distance from the starting point.\n",
    "    \n",
    "    x.append(steps)     # add a new x value.\n",
    "    y.append(distance)  # add a new y value.\n",
    "        \n",
    "    steps = steps + 50\n",
    "    \n",
    "# Generate a plot of the x and y values.\n",
    "plot(x, y, 'r.')                       # plot x and y using red dots.\n",
    "ylim([0, 200])                         # Set the range on the y axis.\n",
    "xlim([0, 1100])                        # Set the range on the x axis.\n",
    "title(\"Random Walk Distances\")         # Title for the plot.\n",
    "xlabel(\"Number of Steps\")              # Label the x axis.\n",
    "ylabel(\"Distance from Starting Point\") # Label the y axis.\n",
    "grid(True)                             # Turn on the grid lines.\n",
    "show()                                 # Make the graph show up in the notebook."
   ]
  },
  {
   "cell_type": "markdown",
   "metadata": {},
   "source": [
    "__Q24:__ Run your program from __Q23__ a few times and look at the graph each time.  Are the results consistent from run to run? Why do you think that is?"
   ]
  },
  {
   "cell_type": "markdown",
   "metadata": {},
   "source": [
    "The results are not consistent from run to run.  The points seem to appear generally at random on the graph. Each point represents one random walk, which might end up close to the origin (distance close to 0) or far from the origin (larger distance)."
   ]
  },
  {
   "cell_type": "markdown",
   "metadata": {},
   "source": [
    "__Q25:__ When there is variability in an experiment what do you do to get a better estimate of the value you are trying to measure?"
   ]
  },
  {
   "cell_type": "markdown",
   "metadata": {},
   "source": [
    "When the measurements for an experiment have variability repeating the measurement multiple times and taking an average will typically give a better estimate of the value being measured."
   ]
  },
  {
   "cell_type": "markdown",
   "metadata": {},
   "source": [
    "__Q25:__ The program below is similar to the one from __Q23__ except that it now performs each walk twice and computes the average of the distances. Notice that to do this the program places one `for` loop inside of another `for` loop. This is not something we have done before, but it is perfectly legal.  Each time the outer `for` loop repeats the inner `for` loop starts over and repeats its statements.\n",
    "\n",
    "Study this program and then when you think you are ready, make a copy of it and modify it so that:\n",
    "- the line `random_walk(photon, steps, 5)` calls the random walk function you defined in __Q13__\n",
    "- it performs walks with 0, 50, 100, 150, ... 1000 steps of length 5.\n",
    "- for each number of steps it runs 25 trials (careful... you'll have to update more than just the `for` statement!)\n",
    "\n",
    "Note: You can increase the `100` in `turtle.tracer(1000, 0)` to make the simulation go faster."
   ]
  },
  {
   "cell_type": "code",
   "execution_count": null,
   "metadata": {
    "deletable": false,
    "editable": false
   },
   "outputs": [],
   "source": [
    "import turtle\n",
    "import random\n",
    "import numpy\n",
    "from matplotlib.pyplot import *\n",
    "\n",
    "photon = turtle.Turtle()\n",
    "\n",
    "turtle.clearscreen()    # erase any old walks\n",
    "turtle.tracer(100, 0)   # Increase the 100 to make the simulations go faster.\n",
    "\n",
    "x=[] # will hold x values for the graph.\n",
    "y=[] # will hold y values for the graph.\n",
    "\n",
    "# Do a number of random walks each one with \n",
    "# a different number of steps.\n",
    "steps=100\n",
    "for number_of_steps in range(5):\n",
    "    \n",
    "    # For the current number of steps, run multiple trials\n",
    "    # and compute their average distance. \n",
    "    total_dist = 0\n",
    "    for trial in range(2):             \n",
    "      random_walk(photon, steps, 5)    # Have the turtle to the random walk.\n",
    "      distance = photon.distance(0,0)  # Find the straight line distance from the starting point.\n",
    "      total_dist = total_dist + distance\n",
    "    \n",
    "    ave_dist=total_dist/2\n",
    "    \n",
    "    x.append(steps)      # add a new x value.\n",
    "    y.append(ave_dist)   # add a new y value.\n",
    "        \n",
    "    steps = steps + 25\n",
    "    \n",
    "# Generate a plot of the x and y values.\n",
    "plot(x, y, 'r.')                       # plot x and y using red dots.\n",
    "ylim([0, 200])                         # Set the range on the y axis.\n",
    "xlim([0, 1100])                        # Set the range on the x axis.\n",
    "title(\"Random Walk Distances\")         # Title for the plot.\n",
    "xlabel(\"Number of Steps\")              # Label the x axis.\n",
    "ylabel(\"Distance from Starting Point\") # Label the y axis.\n",
    "grid(True)                             # Turn on the grid lines.\n",
    "show()                                 # Make the graph show up in the notebook."
   ]
  },
  {
   "cell_type": "code",
   "execution_count": 64,
   "metadata": {},
   "outputs": [
    {
     "data": {
      "image/png": "[encoded data removed]",
      "text/plain": [
       "<Figure size 432x288 with 1 Axes>"
      ]
     },
     "metadata": {
      "needs_background": "light"
     },
     "output_type": "display_data"
    }
   ],
   "source": [
    "import turtle\n",
    "import random\n",
    "import numpy\n",
    "from matplotlib.pyplot import *\n",
    "\n",
    "photon = turtle.Turtle()\n",
    "\n",
    "turtle.clearscreen()    # erase any old walks\n",
    "turtle.tracer(1000, 0)   # Increase the 100 to make the simulations go faster.\n",
    "\n",
    "x=[] # will hold x values for the graph.\n",
    "y=[] # will hold y values for the graph.\n",
    "\n",
    "# Do a number of random walks each one with \n",
    "# a different number of steps.\n",
    "steps=0\n",
    "for number_of_steps in range(21):\n",
    "    \n",
    "    # For the current number of steps, run multiple trials\n",
    "    # and compute their average distance. \n",
    "    total_dist = 0\n",
    "    for trial in range(25):             \n",
    "      random_walk(photon, steps, 5)    # Have the turtle to the random walk.\n",
    "      distance = photon.distance(0,0)  # Find the straight line distance from the starting point.\n",
    "      total_dist = total_dist + distance\n",
    "    \n",
    "    ave_dist=total_dist/25\n",
    "    \n",
    "    x.append(steps)      # add a new x value.\n",
    "    y.append(ave_dist)   # add a new y value.\n",
    "        \n",
    "    steps = steps + 50\n",
    "    \n",
    "# Generate a plot of the x and y values.\n",
    "plot(x, y, 'r.')                       # plot x and y using red dots.\n",
    "ylim([0, 200])                         # Set the range on the y axis.\n",
    "xlim([0, 1100])                        # Set the range on the x axis.\n",
    "title(\"Random Walk Distances\")         # Title for the plot.\n",
    "xlabel(\"Number of Steps\")              # Label the x axis.\n",
    "ylabel(\"Distance from Starting Point\") # Label the y axis.\n",
    "grid(True)                             # Turn on the grid lines.\n",
    "show()                                 # Make the graph show up in the notebook."
   ]
  },
  {
   "cell_type": "markdown",
   "metadata": {},
   "source": [
    "__Q26:__ It can be [shown mathematically](http://mathworld.wolfram.com/RandomWalk2-Dimensional.html) that for a random walk with step size $\\ell$ the distance from the starting point of the walk will be *approximately* proportional to the square root of the number of steps.\n",
    "\n",
    "Running the code cell below will generate a graph of the data from your simulation in __Q25__ with an additional line showing the square root of the number of steps.\n",
    "\n",
    "Adjust the value of the `scale` variable and re-run the cell until the curve visually fits the data well. You do not need to change anything except the `scale` variable in this program.\n",
    "\n",
    "Note that we could also have used a more sophisticated [curve fitting technique](http://scipy-lectures.org/intro/scipy/auto_examples/plot_curve_fit.html), but for our purposes a visual fit is more than sufficient."
   ]
  },
  {
   "cell_type": "code",
   "execution_count": 67,
   "metadata": {},
   "outputs": [
    {
     "data": {
      "image/png": "[encoded data removed]",
      "text/plain": [
       "<Figure size 432x288 with 1 Axes>"
      ]
     },
     "metadata": {
      "needs_background": "light"
     },
     "output_type": "display_data"
    }
   ],
   "source": [
    "import math\n",
    "import numpy\n",
    "\n",
    "# Generate a curve fit to the data. \n",
    "step_size=5\n",
    "scale=0.88    # Adjust me! \n",
    "distance_fit = scale * step_size * numpy.sqrt(x)\n",
    "\n",
    "plot(x, y, 'r.')                       # plot x and y using red dots.\n",
    "plot(x, distance_fit, 'b-')            # plot the fit line.\n",
    "ylim([0, 200])                         # Set the range on the y axis.\n",
    "xlim([0, 1100])                        # Set the range on the x axis.\n",
    "title(\"Random Walk Distances\")         # Title for the plot.\n",
    "xlabel(\"Number of Steps\")              # Label the x axis.\n",
    "ylabel(\"Distance from Starting Point\") # Label the y axis.\n",
    "grid(True)                             # Turn on the grid lines.\n",
    "show()   "
   ]
  },
  {
   "cell_type": "markdown",
   "metadata": {},
   "source": [
    "__Q27:__ Use the values of `scale` and `step_size` from __Q26__ to give an equation that will tell you *approximately* how far to expect a random walk to be from its starting point on average.  Your equation should include variables `d` for the distance from the starting point, `n` for the number of steps and $\\ell$ for the length of a step."
   ]
  },
  {
   "cell_type": "markdown",
   "metadata": {},
   "source": [
    "d = 0.88 * $\\ell$ * $\\sqrt{n}$"
   ]
  },
  {
   "cell_type": "markdown",
   "metadata": {},
   "source": [
    "### Okay... So how long does it take????"
   ]
  },
  {
   "cell_type": "markdown",
   "metadata": {},
   "source": [
    "So after all of that we now have almost enough information to answer our question...  first let's collect up the important pieces..."
   ]
  },
  {
   "cell_type": "markdown",
   "metadata": {},
   "source": [
    "__Q28:__ Collect and clearly label the following in the cell below:\n",
    "- Your equation from __Q19__\n",
    "- The step size for light's random walk (__Q19__)\n",
    "- Your equation from __Q27__"
   ]
  },
  {
   "cell_type": "markdown",
   "metadata": {},
   "source": [
    "- `t = (n * 0.01) / 3*10**8`\n",
    "- Step size is `0.01 meters`\n",
    "- d = 0.88 * $\\ell$ * $\\sqrt{n}$"
   ]
  },
  {
   "cell_type": "markdown",
   "metadata": {},
   "source": [
    "__Q29:__ The equation from __Q19__ requires the number of steps. The equation from __Q27__ will give us the number of steps if we know what values to use for d and $\\ell$.  You have $\\ell$ above.  The light needs to reach the surface of the Sun, so __d__ will be the radius of the Sun.  What is the radius of the Sun in meters?"
   ]
  },
  {
   "cell_type": "markdown",
   "metadata": {},
   "source": [
    "The radius of the sun is: `695.51*10**6` meters."
   ]
  },
  {
   "cell_type": "markdown",
   "metadata": {},
   "source": [
    "__Q30:__ Solve your equation from __Q27__ for **n** and write Python statements that assign to a variable `n` the number of steps that will be required on average for light to reach the surface of the Sun.  Also, print the value of `n`.  Whoa!! That's a lot of steps!!!"
   ]
  },
  {
   "cell_type": "markdown",
   "metadata": {},
   "source": [
    "d = 0.88 * 0.01 * $\\sqrt{n}$\n",
    "\n",
    "so:\n",
    "\n",
    "`n = (d / (0.88 * 0.01))**2`"
   ]
  },
  {
   "cell_type": "code",
   "execution_count": 86,
   "metadata": {},
   "outputs": [
    {
     "name": "stdout",
     "output_type": "stream",
     "text": [
      "6.246567150051651e+21 steps\n"
     ]
    }
   ],
   "source": [
    "r_sun = 695.51*10**6\n",
    "n = (r_sun / (0.88 * 0.01))**2\n",
    "print(str(n) + \" steps\")"
   ]
  },
  {
   "cell_type": "markdown",
   "metadata": {},
   "source": [
    "__Q31:__ Use your value for **n** from __Q30__ and your equation from __Q17__ and write Python statements that assign to a variable `t` the time in seconds that is required on average for the light to reach the surface of the Sun.  Also, print the value of `t`. Whoa!!! Thats a lot of seconds!!!"
   ]
  },
  {
   "cell_type": "code",
   "execution_count": 87,
   "metadata": {},
   "outputs": [
    {
     "name": "stdout",
     "output_type": "stream",
     "text": [
      "208218905001.7217 seconds\n"
     ]
    }
   ],
   "source": [
    "light_speed = 3*10**8\n",
    "t = (n * 0.01) / light_speed\n",
    "print(str(t) + \" seconds\")"
   ]
  },
  {
   "cell_type": "markdown",
   "metadata": {},
   "source": [
    "__Q32:__ Write Python statements that compute and print the number of years required for the light to reach the surface of the Sun."
   ]
  },
  {
   "cell_type": "code",
   "execution_count": 88,
   "metadata": {},
   "outputs": [
    {
     "name": "stdout",
     "output_type": "stream",
     "text": [
      "6769.497275596966 years\n"
     ]
    }
   ],
   "source": [
    "years = t / 356 / 24 / 60 / 60 \n",
    "print(str(years) + \" years\")"
   ]
  },
  {
   "cell_type": "markdown",
   "metadata": {},
   "source": [
    "__Q33:__ Do an on-line search for estimates of this time.  What is the range of times you find? How does your estimate compare to the estimates that you found?"
   ]
  },
  {
   "cell_type": "markdown",
   "metadata": {},
   "source": [
    "A post by Dr. Sten Odenwald (Raytheon STX) for the NASA IMAGE/POETRY Education and Public Outreach program says:\n",
    "\n",
    ">Very approximately, this means that to travel the radius of the Sun, a photon will have to take (696,000 kilometers/1 centimeter)^2 = 5 x 10^21 steps. This will take, 5x10^21 x 3 x10^-11 = 1.5 x 10^11 seconds or since there are 3.1 x 10^7 seconds in a year, you get about 4,000 years. Some textbooks refer to 'hundreds of thousands of years' or even 'several million years' depending on what is assumed for the mean free patch.\n",
    "\n",
    "So our estimate is fairly close to the calculation performed by Dr. Odenwald.  However, it is significantly less than the number given by \"some textbooks.\""
   ]
  },
  {
   "cell_type": "markdown",
   "metadata": {},
   "source": [
    "Now, add the 8 minutes for the light to travel from the surface of the Sun to the Earth and you've got the answer to our question!  Or better yet... don't bother! Because seriously, who really cares about 8 minutes when the light is already that old."
   ]
  },
  {
   "cell_type": "markdown",
   "metadata": {},
   "source": [
    "### Additional Information:  \n",
    "\n",
    "This lab made at least one big assumption... that is that the steps in the random walk are all about 1cm in length.  This 1cm is a commonly used rough estimate of the average step length across the light's full journey from the center of the Sun.  However, closer to the center of the Sun, where it is more dense, the steps would be much shorter than further out where it is less dense.  To improve the estimate scientists modify their random walk to use different step sizes based upon the density of the Sun and current distance from the center. You can check out one example of a simulation that [assumes the density of the sun changes linearly with the distance from the center](http://physics.wooster.edu/JrIS/Files/Walker_Web_Article.pdf) if you are curious."
   ]
  }
 ],
 "metadata": {
  "kernelspec": {
   "display_name": "Python 3",
   "language": "python",
   "name": "python3"
  },
  "language_info": {
   "codemirror_mode": {
    "name": "ipython",
    "version": 3
   },
   "file_extension": ".py",
   "mimetype": "text/x-python",
   "name": "python",
   "nbconvert_exporter": "python",
   "pygments_lexer": "ipython3",
   "version": "3.7.3"
  }
 },
 "nbformat": 4,
 "nbformat_minor": 2
}
